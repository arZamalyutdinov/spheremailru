{
 "cells": [
  {
   "cell_type": "markdown",
   "metadata": {
    "colab_type": "text",
    "id": "xTZDIgmOQI0R"
   },
   "source": [
    "**Общая информация**\n",
    "\n",
    "**Срок сдачи:** 20 марта 2019, 06:00 <br\\>\n",
    "**Штраф за опоздание:** -1 балл после 06:00 20 марта, -2 балла после 06:00 27 марта, -3 балла после 06:00 3 апреля\n",
    "-4 балла после 06:00 10 апреля\n",
    "\n",
    "При отправлении ДЗ указывайте фамилию в названии файла\n",
    "Присылать ДЗ необходимо в виде ссылки на свой github репозиторий в slack @alkhamush\n",
    "\n",
    "Необходимо в slack скинуть ссылку в личный чат @alkhamush\n",
    "Пример ссылки:\n",
    "https://github.com/stroykova/spheremailru/stroykova_hw1.ipynb \n",
    "\n",
    "\n",
    "Используйте данный Ipython Notebook при оформлении домашнего задания."
   ]
  },
  {
   "cell_type": "markdown",
   "metadata": {
    "colab_type": "text",
    "id": "zLq8FbEUQI0d"
   },
   "source": [
    "##### Задание 1 (2 баллов)\n",
    "Реализовать KNN в классе MyKNeighborsClassifier (обязательное условие: точность не ниже sklearn реализации)\n",
    "Разберитесь самостоятельно, какая мера расстояния используется в KNeighborsClassifier дефолтно и реализуйте свой алгоритм именно с этой мерой. Самостоятельно разберитесь, как считается score из KNeighborsClassifier и реализуйте аналог в своём классе. Score не должен уступать значению KNN из sklearn\n",
    "\n",
    "###### Задание 2 (2 балла)\n",
    "Добиться скорости работы на fit,  predict и predict_proba сравнимой со sklearn для iris и mnist\n",
    "Для этого используем numpy\n",
    "\n",
    "###### Задание 3 (2 балла)\n",
    "Для iris найдите такой параметр n_neighbors, при котором выдаётся наилучший score. Нарисуйте график зависимости score от n_neighbors\n",
    "\n",
    "###### Задание 4 (3 балла)\n",
    "Добавить algorithm='kd_tree' в реализацию KNN (использовать KDTree из sklearn.neighbors). Добиться скорости работы на fit,  predict и predict_proba сравнимой со sklearn для iris и mnist\n",
    "Для этого используем numpy. Score не должен уступать значению KNN из sklearn\n",
    "\n",
    "###### Задание 5 (1 балла)\n",
    "Описать для чего нужны следующие библиотеки/классы/функции (список будет ниже)\n",
    "\n",
    "**Штрафные баллы:**\n",
    "\n",
    "1. Невыполнение PEP8 -0.5 баллов\n",
    "2. Отсутствие фамилии в имени скрипта (скрипт должен называться по аналогии со stroykova_hw1.ipynb) -0.5 баллов\n",
    "3. Все строчки должны быть выполнены. Нужно, чтобы output команды можно было увидеть уже в git'е. В противном случае -0.5 баллов\n",
    "4. При оформлении ДЗ нужно пользоваться данным файлом в качестве шаблона. Не нужно удалять и видоизменять структуру кода и текст. В противном случае -0.5 баллов\n"
   ]
  },
  {
   "cell_type": "code",
   "execution_count": 1,
   "metadata": {
    "colab": {},
    "colab_type": "code",
    "id": "5FLttPTPQI0j"
   },
   "outputs": [],
   "source": [
    "import numpy as np\n",
    "import matplotlib.pyplot as plt\n",
    "\n",
    "import seaborn as sns\n",
    "from sklearn import datasets\n",
    "from sklearn.base import ClassifierMixin\n",
    "from sklearn.datasets import fetch_openml\n",
    "from sklearn.neighbors.base import NeighborsBase, KNeighborsMixin, SupervisedIntegerMixin \n",
    "from sklearn.model_selection import train_test_split\n",
    "from sklearn.neighbors import KNeighborsClassifier\n",
    "from scipy.spatial.distance import cdist\n",
    "from sklearn.neighbors import KDTree\n",
    "from sklearn.metrics import pairwise_distances_chunked as pdc\n",
    "\n",
    "#%load_ext pycodestyle_magic"
   ]
  },
  {
   "cell_type": "code",
   "execution_count": 2,
   "metadata": {
    "colab": {},
    "colab_type": "code",
    "id": "79kNOIeNQI06"
   },
   "outputs": [],
   "source": [
    "#%%pycodestyle\n",
    "\n",
    "\n",
    "class MyKNeighborsClassifier(NeighborsBase, KNeighborsMixin,\n",
    "                             SupervisedIntegerMixin, ClassifierMixin):\n",
    "\n",
    "    def __init__(self, n_neighbors, algorithm='brute'):\n",
    "        self.n_neighbors = n_neighbors\n",
    "        self.algorithm = algorithm\n",
    "\n",
    "    def fit(self, X, y):\n",
    "        self.X = np.copy(X)\n",
    "        self.y = np.copy(y)\n",
    "        self.y_numb = np.asarray(self.y, dtype = np.uint32) \n",
    "        if self.algorithm == 'kd_tree':\n",
    "            self.X = KDTree(X)\n",
    "        self.n_classes = len(np.unique(y))\n",
    "\n",
    "    def reduce_func(self, chunk, start):\n",
    "        return self.y[np.argpartition(chunk, self.n_neighbors, axis=1)[:,:self.n_neighbors]]\n",
    "\n",
    "    def predict(self, X):\n",
    "        if self.algorithm == 'brute':\n",
    "            classes_array = list(pdc(X, self.X, reduce_func=self.reduce_func))[0]\n",
    "        if self.algorithm == 'kd_tree':\n",
    "            classes_array = self.y[self.X.query(X, k=self.n_neighbors, return_distance=False)]\n",
    "        return np.asarray([np.unique(i)[np.argmax(np.unique(i, return_counts=True)[1])] for i in classes_array])\n",
    "                 \n",
    "    def predict_proba(self, X):\n",
    "        if self.algorithm == 'brute':\n",
    "            classes_array = list(pdc(X, self.X, reduce_func=self.reduce_func))[0]\n",
    "        if self.algorithm == 'kd_tree':\n",
    "            classes_array = self.y_numb[self.X.query(X, k = self.n_neighbors, return_distance=False)]\n",
    "        res = np.apply_along_axis(np.bincount, 1, np.asarray(classes_array, dtype='int64'), minlength=self.n_classes)\n",
    "        return res / np.sum(res, axis = 1).reshape((res.shape[0],1))\n",
    "\n",
    "    def score(self, X, y):\n",
    "        return np.count_nonzero(y == self.predict(X)) / y.shape[0]"
   ]
  },
  {
   "cell_type": "markdown",
   "metadata": {
    "colab_type": "text",
    "id": "0lxEMK_TQI1L"
   },
   "source": [
    "**IRIS**"
   ]
  },
  {
   "cell_type": "code",
   "execution_count": 50,
   "metadata": {
    "colab": {},
    "colab_type": "code",
    "id": "iLxFUka-QI1T"
   },
   "outputs": [],
   "source": [
    "iris = datasets.load_iris()"
   ]
  },
  {
   "cell_type": "code",
   "execution_count": 51,
   "metadata": {
    "colab": {},
    "colab_type": "code",
    "id": "J2JEaJNjQI1h"
   },
   "outputs": [],
   "source": [
    "X_train, X_test, y_train, y_test = train_test_split(iris.data, iris.target, test_size=0.1, stratify=iris.target)"
   ]
  },
  {
   "cell_type": "code",
   "execution_count": 52,
   "metadata": {
    "colab": {},
    "colab_type": "code",
    "id": "ks4a_7DZQI1s"
   },
   "outputs": [],
   "source": [
    "clf = KNeighborsClassifier(n_neighbors=2, algorithm='brute')\n",
    "my_clf = MyKNeighborsClassifier(n_neighbors=2, algorithm='brute')"
   ]
  },
  {
   "cell_type": "code",
   "execution_count": 53,
   "metadata": {
    "colab": {
     "base_uri": "https://localhost:8080/",
     "height": 104
    },
    "colab_type": "code",
    "id": "oOm23dqrQI14",
    "outputId": "083fc5ed-cfdb-4414-d9ba-307aceef8c3e"
   },
   "outputs": [
    {
     "name": "stdout",
     "output_type": "stream",
     "text": [
      "CPU times: user 649 µs, sys: 3.32 ms, total: 3.97 ms\n",
      "Wall time: 3.65 ms\n"
     ]
    },
    {
     "data": {
      "text/plain": [
       "KNeighborsClassifier(algorithm='brute', leaf_size=30, metric='minkowski',\n",
       "           metric_params=None, n_jobs=None, n_neighbors=2, p=2,\n",
       "           weights='uniform')"
      ]
     },
     "execution_count": 53,
     "metadata": {},
     "output_type": "execute_result"
    }
   ],
   "source": [
    "%time clf.fit(X_train, y_train)"
   ]
  },
  {
   "cell_type": "code",
   "execution_count": 54,
   "metadata": {
    "colab": {
     "base_uri": "https://localhost:8080/",
     "height": 52
    },
    "colab_type": "code",
    "id": "BVvfGJS9QI2V",
    "outputId": "89de16e5-84f6-4d56-cbfd-d9d2ca9674c6"
   },
   "outputs": [
    {
     "name": "stdout",
     "output_type": "stream",
     "text": [
      "CPU times: user 483 µs, sys: 5 µs, total: 488 µs\n",
      "Wall time: 385 µs\n"
     ]
    }
   ],
   "source": [
    "%time my_clf.fit(X_train, y_train)"
   ]
  },
  {
   "cell_type": "code",
   "execution_count": 55,
   "metadata": {
    "colab": {
     "base_uri": "https://localhost:8080/",
     "height": 69
    },
    "colab_type": "code",
    "id": "3ADRNyVjQI2w",
    "outputId": "a392f2a2-dd33-49c9-b335-dd9b24058b26"
   },
   "outputs": [
    {
     "name": "stdout",
     "output_type": "stream",
     "text": [
      "CPU times: user 5.93 ms, sys: 0 ns, total: 5.93 ms\n",
      "Wall time: 6.05 ms\n"
     ]
    },
    {
     "data": {
      "text/plain": [
       "array([2, 1, 2, 0, 0, 1, 0, 1, 2, 0, 1, 0, 2, 2, 2])"
      ]
     },
     "execution_count": 55,
     "metadata": {},
     "output_type": "execute_result"
    }
   ],
   "source": [
    "%time clf.predict(X_test)"
   ]
  },
  {
   "cell_type": "code",
   "execution_count": 56,
   "metadata": {
    "colab": {},
    "colab_type": "code",
    "id": "zD12T7WoQI3M"
   },
   "outputs": [
    {
     "name": "stdout",
     "output_type": "stream",
     "text": [
      "CPU times: user 4.61 ms, sys: 0 ns, total: 4.61 ms\n",
      "Wall time: 4.8 ms\n"
     ]
    },
    {
     "data": {
      "text/plain": [
       "array([2, 1, 2, 0, 0, 1, 0, 1, 2, 0, 1, 0, 2, 2, 2])"
      ]
     },
     "execution_count": 56,
     "metadata": {},
     "output_type": "execute_result"
    }
   ],
   "source": [
    "%time my_clf.predict(X_test)"
   ]
  },
  {
   "cell_type": "code",
   "execution_count": 57,
   "metadata": {
    "colab": {
     "base_uri": "https://localhost:8080/",
     "height": 312
    },
    "colab_type": "code",
    "id": "-tVXB5I_QI3d",
    "outputId": "c3db40f6-042b-4ab9-ee36-8eff7bfd90b0"
   },
   "outputs": [
    {
     "name": "stdout",
     "output_type": "stream",
     "text": [
      "CPU times: user 2.65 ms, sys: 0 ns, total: 2.65 ms\n",
      "Wall time: 2.84 ms\n"
     ]
    },
    {
     "data": {
      "text/plain": [
       "array([[0., 0., 1.],\n",
       "       [0., 1., 0.],\n",
       "       [0., 0., 1.],\n",
       "       [1., 0., 0.],\n",
       "       [1., 0., 0.],\n",
       "       [0., 1., 0.],\n",
       "       [1., 0., 0.],\n",
       "       [0., 1., 0.],\n",
       "       [0., 0., 1.],\n",
       "       [1., 0., 0.],\n",
       "       [0., 1., 0.],\n",
       "       [1., 0., 0.],\n",
       "       [0., 0., 1.],\n",
       "       [0., 0., 1.],\n",
       "       [0., 0., 1.]])"
      ]
     },
     "execution_count": 57,
     "metadata": {},
     "output_type": "execute_result"
    }
   ],
   "source": [
    "%time clf.predict_proba(X_test)"
   ]
  },
  {
   "cell_type": "code",
   "execution_count": 58,
   "metadata": {
    "colab": {
     "base_uri": "https://localhost:8080/",
     "height": 312
    },
    "colab_type": "code",
    "id": "NElElo9bQI3s",
    "outputId": "02ec5c8f-93a8-4496-917e-d3fd8b3d7b30"
   },
   "outputs": [
    {
     "name": "stdout",
     "output_type": "stream",
     "text": [
      "CPU times: user 3.64 ms, sys: 4 µs, total: 3.65 ms\n",
      "Wall time: 3.27 ms\n"
     ]
    },
    {
     "data": {
      "text/plain": [
       "array([[0., 0., 1.],\n",
       "       [0., 1., 0.],\n",
       "       [0., 0., 1.],\n",
       "       [1., 0., 0.],\n",
       "       [1., 0., 0.],\n",
       "       [0., 1., 0.],\n",
       "       [1., 0., 0.],\n",
       "       [0., 1., 0.],\n",
       "       [0., 0., 1.],\n",
       "       [1., 0., 0.],\n",
       "       [0., 1., 0.],\n",
       "       [1., 0., 0.],\n",
       "       [0., 0., 1.],\n",
       "       [0., 0., 1.],\n",
       "       [0., 0., 1.]])"
      ]
     },
     "execution_count": 58,
     "metadata": {},
     "output_type": "execute_result"
    }
   ],
   "source": [
    "%time my_clf.predict_proba(X_test)"
   ]
  },
  {
   "cell_type": "code",
   "execution_count": 59,
   "metadata": {
    "colab": {
     "base_uri": "https://localhost:8080/",
     "height": 34
    },
    "colab_type": "code",
    "id": "YRd3LJI1QI4H",
    "outputId": "4c6adfc9-44b6-49e5-c320-91272a591593"
   },
   "outputs": [
    {
     "data": {
      "text/plain": [
       "0.9333333333333333"
      ]
     },
     "execution_count": 59,
     "metadata": {},
     "output_type": "execute_result"
    }
   ],
   "source": [
    "clf.score(X_test, y_test)"
   ]
  },
  {
   "cell_type": "code",
   "execution_count": 60,
   "metadata": {
    "colab": {
     "base_uri": "https://localhost:8080/",
     "height": 34
    },
    "colab_type": "code",
    "id": "zWusPxA5QI4a",
    "outputId": "6e9933a9-25c7-498f-e11d-77a55c54da8e"
   },
   "outputs": [
    {
     "data": {
      "text/plain": [
       "0.9333333333333333"
      ]
     },
     "execution_count": 60,
     "metadata": {},
     "output_type": "execute_result"
    }
   ],
   "source": [
    "my_clf.score(X_test, y_test)"
   ]
  },
  {
   "cell_type": "markdown",
   "metadata": {
    "colab_type": "text",
    "id": "wqdLWsvqQI4s"
   },
   "source": [
    "Задание 3"
   ]
  },
  {
   "cell_type": "code",
   "execution_count": 67,
   "metadata": {
    "colab": {},
    "colab_type": "code",
    "id": "nzAqGNpMQI4w"
   },
   "outputs": [
    {
     "data": {
      "image/png": "[encoded data removed]",
      "text/plain": [
       "<Figure size 1008x360 with 1 Axes>"
      ]
     },
     "metadata": {
      "needs_background": "light"
     },
     "output_type": "display_data"
    },
    {
     "data": {
      "text/plain": [
       "(array([ 9, 10, 11, 12, 13, 14, 16, 17, 18, 19, 21, 22, 23, 24, 28, 29, 30,\n",
       "        32, 33, 34, 35, 36, 40, 41, 42, 44, 46]),)"
      ]
     },
     "execution_count": 67,
     "metadata": {},
     "output_type": "execute_result"
    }
   ],
   "source": [
    "x = np.arange(1, 100)\n",
    "y = np.empty(99)\n",
    "for i in x:\n",
    "    my_clf = MyKNeighborsClassifier(n_neighbors=i, algorithm='brute')\n",
    "    my_clf.fit(X_train, y_train)\n",
    "    y[i - 1] = my_clf.score(X_test, y_test)\n",
    "fig = plt.figure(figsize=(14,5))\n",
    "ax = plt.subplot(1,1,1)\n",
    "ax.set_title('Dependence of KNN score on number of neighbors')\n",
    "ax.set_xlabel('number of neighbors')\n",
    "ax.set_ylabel('KNN score')\n",
    "ax.plot(x, y, marker='.')\n",
    "plt.show()\n",
    "np.where(y == y.max())"
   ]
  },
  {
   "cell_type": "markdown",
   "metadata": {
    "colab_type": "text",
    "id": "Qim-fOnmQI5A"
   },
   "source": [
    "**MNIST**"
   ]
  },
  {
   "cell_type": "code",
   "execution_count": 15,
   "metadata": {
    "colab": {},
    "colab_type": "code",
    "id": "rruWYKStQI5R"
   },
   "outputs": [],
   "source": [
    "mnist = fetch_openml('mnist_784', version=1, cache=True)"
   ]
  },
  {
   "cell_type": "code",
   "execution_count": 16,
   "metadata": {
    "colab": {},
    "colab_type": "code",
    "id": "z8ZHYZBsQI5h"
   },
   "outputs": [],
   "source": [
    "X_train, X_test, y_train, y_test = train_test_split(mnist.data, mnist.target, test_size=0.01, stratify=mnist.target)"
   ]
  },
  {
   "cell_type": "code",
   "execution_count": 17,
   "metadata": {
    "colab": {},
    "colab_type": "code",
    "id": "uqgk61BnQI51"
   },
   "outputs": [],
   "source": [
    "clf = KNeighborsClassifier(n_neighbors=2, algorithm='brute')\n",
    "my_clf = MyKNeighborsClassifier(n_neighbors=2, algorithm='brute')"
   ]
  },
  {
   "cell_type": "code",
   "execution_count": 18,
   "metadata": {
    "colab": {
     "base_uri": "https://localhost:8080/",
     "height": 52
    },
    "colab_type": "code",
    "id": "_JajleGxQI6o",
    "outputId": "c62ccdca-7cf2-455d-b0f7-dfb8a27a792e"
   },
   "outputs": [
    {
     "name": "stdout",
     "output_type": "stream",
     "text": [
      "CPU times: user 227 ms, sys: 352 ms, total: 579 ms\n",
      "Wall time: 303 ms\n"
     ]
    }
   ],
   "source": [
    "%time my_clf.fit(X_train, y_train)"
   ]
  },
  {
   "cell_type": "code",
   "execution_count": 19,
   "metadata": {
    "colab": {
     "base_uri": "https://localhost:8080/",
     "height": 104
    },
    "colab_type": "code",
    "id": "vUnKOwzeQI6H",
    "outputId": "5cbe3e40-cc29-4f20-e6d7-5ef3fcff6b40"
   },
   "outputs": [
    {
     "name": "stdout",
     "output_type": "stream",
     "text": [
      "CPU times: user 336 ms, sys: 0 ns, total: 336 ms\n",
      "Wall time: 196 ms\n"
     ]
    },
    {
     "data": {
      "text/plain": [
       "KNeighborsClassifier(algorithm='brute', leaf_size=30, metric='minkowski',\n",
       "           metric_params=None, n_jobs=None, n_neighbors=2, p=2,\n",
       "           weights='uniform')"
      ]
     },
     "execution_count": 19,
     "metadata": {},
     "output_type": "execute_result"
    }
   ],
   "source": [
    "%time clf.fit(X_train, y_train)"
   ]
  },
  {
   "cell_type": "code",
   "execution_count": 20,
   "metadata": {
    "colab": {
     "base_uri": "https://localhost:8080/",
     "height": 69
    },
    "colab_type": "code",
    "id": "J3HeBDBhQI7W",
    "outputId": "f539df37-7d5f-4891-e2b1-b7bd35a4157a"
   },
   "outputs": [
    {
     "name": "stdout",
     "output_type": "stream",
     "text": [
      "CPU times: user 4.37 s, sys: 358 ms, total: 4.72 s\n",
      "Wall time: 2.73 s\n"
     ]
    },
    {
     "data": {
      "text/plain": [
       "array(['6', '2', '3', '3', '3', '3', '2', '1', '2', '6', '8', '5', '5',\n",
       "       '0', '2', '7', '8', '1', '7', '2', '1', '7', '9', '3', '8', '6',\n",
       "       '4', '9', '0', '2', '3', '0', '5', '4', '0', '0', '3', '3', '4',\n",
       "       '5', '5', '1', '7', '5', '7', '7', '1', '2', '3', '9', '5', '8',\n",
       "       '5', '4', '9', '7', '8', '7', '4', '8', '1', '8', '8', '1', '0',\n",
       "       '2', '7', '7', '5', '9', '2', '8', '8', '4', '9', '1', '8', '5',\n",
       "       '1', '7', '6', '3', '0', '4', '0', '4', '8', '4', '0', '9', '2',\n",
       "       '9', '3', '8', '6', '0', '6', '5', '9', '1', '4', '6', '9', '7',\n",
       "       '1', '5', '5', '4', '8', '3', '9', '4', '3', '0', '7', '5', '6',\n",
       "       '9', '0', '7', '0', '8', '9', '3', '7', '7', '4', '7', '2', '8',\n",
       "       '4', '6', '2', '6', '2', '2', '0', '0', '3', '1', '2', '9', '1',\n",
       "       '5', '2', '4', '2', '7', '3', '9', '3', '7', '3', '1', '1', '5',\n",
       "       '8', '8', '8', '1', '1', '0', '6', '8', '1', '6', '2', '6', '7',\n",
       "       '1', '3', '4', '8', '7', '8', '6', '7', '4', '4', '1', '0', '7',\n",
       "       '5', '2', '5', '6', '6', '5', '1', '1', '7', '6', '7', '1', '0',\n",
       "       '6', '5', '5', '9', '6', '5', '6', '7', '9', '0', '6', '9', '6',\n",
       "       '3', '3', '5', '2', '2', '4', '4', '3', '3', '7', '9', '9', '4',\n",
       "       '0', '6', '1', '1', '6', '9', '3', '4', '5', '9', '2', '1', '1',\n",
       "       '7', '0', '9', '6', '9', '5', '2', '2', '0', '6', '7', '6', '0',\n",
       "       '6', '1', '9', '9', '7', '4', '4', '1', '8', '3', '7', '3', '9',\n",
       "       '8', '7', '8', '6', '4', '8', '9', '5', '4', '5', '0', '8', '0',\n",
       "       '1', '4', '1', '9', '9', '2', '7', '3', '0', '1', '1', '6', '9',\n",
       "       '4', '8', '6', '0', '1', '6', '5', '5', '2', '4', '4', '8', '3',\n",
       "       '3', '1', '1', '8', '7', '9', '1', '1', '7', '2', '0', '0', '5',\n",
       "       '5', '6', '4', '1', '3', '8', '6', '9', '8', '7', '1', '3', '0',\n",
       "       '6', '3', '5', '0', '3', '7', '1', '9', '2', '1', '1', '3', '0',\n",
       "       '5', '4', '3', '9', '6', '5', '2', '1', '7', '0', '1', '4', '5',\n",
       "       '3', '2', '4', '5', '8', '0', '1', '2', '4', '2', '7', '6', '0',\n",
       "       '3', '3', '3', '4', '2', '7', '1', '7', '2', '2', '9', '1', '8',\n",
       "       '7', '8', '4', '0', '5', '2', '7', '9', '0', '8', '7', '5', '3',\n",
       "       '1', '5', '7', '0', '7', '2', '7', '4', '3', '5', '1', '0', '7',\n",
       "       '0', '6', '7', '3', '4', '0', '7', '9', '0', '0', '1', '5', '0',\n",
       "       '7', '4', '8', '2', '1', '5', '9', '8', '7', '1', '3', '7', '2',\n",
       "       '3', '3', '7', '4', '7', '0', '5', '0', '3', '5', '4', '4', '1',\n",
       "       '4', '6', '0', '6', '2', '0', '1', '6', '7', '1', '1', '2', '6',\n",
       "       '8', '2', '3', '0', '2', '4', '0', '7', '2', '7', '7', '6', '1',\n",
       "       '4', '6', '4', '0', '2', '8', '2', '0', '2', '0', '8', '4', '8',\n",
       "       '9', '1', '9', '9', '5', '6', '2', '8', '8', '5', '9', '6', '5',\n",
       "       '5', '7', '5', '8', '1', '4', '4', '7', '1', '9', '0', '1', '6',\n",
       "       '8', '3', '7', '1', '4', '4', '2', '4', '5', '9', '6', '8', '5',\n",
       "       '0', '2', '6', '3', '2', '7', '6', '4', '7', '6', '9', '0', '6',\n",
       "       '0', '1', '1', '6', '1', '6', '5', '0', '4', '0', '4', '3', '2',\n",
       "       '1', '4', '2', '2', '1', '2', '7', '8', '1', '1', '8', '8', '5',\n",
       "       '2', '5', '5', '9', '2', '3', '9', '4', '2', '2', '1', '5', '3',\n",
       "       '9', '9', '0', '5', '5', '3', '6', '3', '8', '4', '7', '2', '8',\n",
       "       '4', '3', '4', '5', '2', '6', '2', '1', '7', '9', '7', '7', '9',\n",
       "       '5', '9', '1', '1', '6', '3', '9', '8', '7', '6', '0', '6', '3',\n",
       "       '6', '5', '2', '7', '3', '8', '2', '0', '0', '5', '9', '0', '3',\n",
       "       '1', '3', '3', '3', '2', '0', '9', '9', '0', '6', '1', '5', '1',\n",
       "       '1', '6', '5', '3', '6', '3', '4', '4', '9', '8', '8', '7', '2',\n",
       "       '8', '9', '1', '0', '0', '5', '6', '6', '3', '9', '0', '8', '4',\n",
       "       '3', '2', '3', '3', '1', '5', '2', '9', '8', '7', '3', '1', '3',\n",
       "       '6', '9', '2', '0', '6', '1', '1', '6', '2', '0', '9', '4', '0',\n",
       "       '9', '3', '9', '6', '4', '1', '6', '2', '4', '1', '6'], dtype='<U1')"
      ]
     },
     "execution_count": 20,
     "metadata": {},
     "output_type": "execute_result"
    }
   ],
   "source": [
    "%time my_clf.predict(X_test)"
   ]
  },
  {
   "cell_type": "code",
   "execution_count": 21,
   "metadata": {
    "colab": {
     "base_uri": "https://localhost:8080/",
     "height": 1007
    },
    "colab_type": "code",
    "id": "xk1dWTngQI7E",
    "outputId": "b66878bd-b1b0-40f4-bff8-2d953d683a95"
   },
   "outputs": [
    {
     "name": "stdout",
     "output_type": "stream",
     "text": [
      "CPU times: user 3.91 s, sys: 368 ms, total: 4.28 s\n",
      "Wall time: 2.54 s\n"
     ]
    },
    {
     "data": {
      "text/plain": [
       "array(['6', '2', '3', '3', '3', '3', '2', '1', '2', '6', '8', '5', '5',\n",
       "       '0', '2', '7', '8', '1', '7', '2', '1', '7', '9', '3', '8', '6',\n",
       "       '4', '9', '0', '2', '3', '0', '5', '4', '0', '0', '3', '3', '4',\n",
       "       '5', '5', '1', '7', '5', '7', '7', '1', '2', '3', '9', '5', '8',\n",
       "       '5', '4', '9', '7', '8', '7', '4', '8', '1', '8', '8', '1', '0',\n",
       "       '2', '7', '7', '5', '9', '2', '8', '8', '4', '9', '1', '8', '5',\n",
       "       '1', '7', '6', '3', '0', '4', '0', '4', '8', '4', '0', '9', '2',\n",
       "       '9', '3', '8', '6', '0', '6', '5', '9', '1', '4', '6', '9', '7',\n",
       "       '1', '5', '5', '4', '8', '3', '9', '4', '3', '0', '7', '5', '6',\n",
       "       '9', '0', '7', '0', '8', '9', '3', '7', '7', '4', '7', '2', '8',\n",
       "       '4', '6', '2', '6', '2', '2', '0', '0', '3', '1', '2', '9', '1',\n",
       "       '5', '2', '4', '2', '7', '3', '9', '3', '7', '3', '1', '1', '5',\n",
       "       '8', '8', '8', '1', '1', '0', '6', '8', '1', '6', '2', '6', '7',\n",
       "       '1', '3', '4', '8', '7', '8', '6', '7', '4', '4', '1', '0', '7',\n",
       "       '5', '2', '5', '6', '6', '5', '1', '1', '7', '6', '7', '1', '0',\n",
       "       '6', '5', '5', '9', '6', '5', '6', '7', '9', '0', '6', '9', '6',\n",
       "       '3', '3', '5', '2', '2', '4', '4', '3', '3', '7', '9', '9', '4',\n",
       "       '0', '6', '1', '1', '6', '9', '3', '4', '5', '9', '2', '1', '1',\n",
       "       '7', '0', '9', '6', '9', '5', '2', '2', '0', '6', '7', '6', '0',\n",
       "       '6', '1', '9', '9', '7', '4', '4', '1', '8', '3', '7', '3', '9',\n",
       "       '8', '7', '8', '6', '4', '8', '9', '5', '4', '5', '0', '8', '0',\n",
       "       '1', '4', '1', '9', '9', '2', '7', '3', '0', '1', '1', '6', '9',\n",
       "       '4', '8', '6', '0', '1', '6', '5', '5', '2', '4', '4', '8', '3',\n",
       "       '3', '1', '1', '8', '7', '9', '1', '1', '7', '2', '0', '0', '5',\n",
       "       '5', '6', '4', '1', '3', '8', '6', '9', '8', '7', '1', '3', '0',\n",
       "       '6', '3', '5', '0', '3', '7', '1', '9', '2', '1', '1', '3', '0',\n",
       "       '5', '4', '3', '9', '6', '5', '2', '1', '7', '0', '1', '4', '5',\n",
       "       '3', '2', '4', '5', '8', '0', '1', '2', '4', '2', '7', '6', '0',\n",
       "       '3', '3', '3', '4', '2', '7', '1', '7', '2', '2', '9', '1', '8',\n",
       "       '7', '8', '4', '0', '5', '2', '7', '9', '0', '8', '7', '5', '3',\n",
       "       '1', '5', '7', '0', '7', '2', '7', '4', '3', '5', '1', '0', '7',\n",
       "       '0', '6', '7', '3', '4', '0', '7', '9', '0', '0', '1', '5', '0',\n",
       "       '7', '4', '8', '2', '1', '5', '9', '8', '7', '1', '3', '7', '2',\n",
       "       '3', '3', '7', '4', '7', '0', '5', '0', '3', '5', '4', '4', '1',\n",
       "       '4', '6', '0', '6', '2', '0', '1', '6', '7', '1', '1', '2', '6',\n",
       "       '8', '2', '3', '0', '2', '4', '0', '7', '2', '7', '7', '6', '1',\n",
       "       '4', '6', '4', '0', '2', '8', '2', '0', '2', '0', '8', '4', '8',\n",
       "       '9', '1', '9', '9', '5', '6', '2', '8', '8', '5', '9', '6', '5',\n",
       "       '5', '7', '5', '8', '1', '4', '4', '7', '1', '9', '0', '1', '6',\n",
       "       '8', '3', '7', '1', '4', '4', '2', '4', '5', '9', '6', '8', '5',\n",
       "       '0', '2', '6', '3', '2', '7', '6', '4', '7', '6', '9', '0', '6',\n",
       "       '0', '1', '1', '6', '1', '6', '5', '0', '4', '0', '4', '3', '2',\n",
       "       '1', '4', '2', '2', '1', '2', '7', '8', '1', '1', '8', '8', '5',\n",
       "       '2', '5', '5', '9', '2', '3', '9', '4', '2', '2', '1', '5', '3',\n",
       "       '9', '9', '0', '5', '5', '3', '6', '3', '8', '4', '7', '2', '8',\n",
       "       '4', '3', '4', '5', '2', '6', '2', '1', '7', '9', '7', '7', '9',\n",
       "       '5', '9', '1', '1', '6', '3', '9', '8', '7', '6', '0', '6', '3',\n",
       "       '6', '5', '2', '7', '3', '8', '2', '0', '0', '5', '9', '0', '3',\n",
       "       '1', '3', '3', '3', '2', '0', '9', '9', '0', '6', '1', '5', '1',\n",
       "       '1', '6', '5', '3', '6', '3', '4', '4', '9', '8', '8', '7', '2',\n",
       "       '8', '9', '1', '0', '0', '5', '6', '6', '3', '9', '0', '8', '4',\n",
       "       '3', '2', '3', '3', '1', '5', '2', '9', '8', '7', '3', '1', '3',\n",
       "       '6', '9', '2', '0', '6', '1', '1', '6', '2', '0', '9', '4', '0',\n",
       "       '9', '3', '9', '6', '4', '1', '6', '2', '4', '1', '6'],\n",
       "      dtype=object)"
      ]
     },
     "execution_count": 21,
     "metadata": {},
     "output_type": "execute_result"
    }
   ],
   "source": [
    "%time clf.predict(X_test)"
   ]
  },
  {
   "cell_type": "code",
   "execution_count": 22,
   "metadata": {
    "colab": {},
    "colab_type": "code",
    "id": "MzQPHGqtQI7q",
    "outputId": "33f999bd-ec0a-4708-b82d-0949ff04c495"
   },
   "outputs": [
    {
     "name": "stdout",
     "output_type": "stream",
     "text": [
      "CPU times: user 5.54 s, sys: 507 ms, total: 6.04 s\n",
      "Wall time: 3.7 s\n"
     ]
    },
    {
     "data": {
      "text/plain": [
       "array([[0., 0., 0., ..., 0., 0., 0.],\n",
       "       [0., 0., 1., ..., 0., 0., 0.],\n",
       "       [0., 0., 0., ..., 0., 0., 0.],\n",
       "       ...,\n",
       "       [0., 0., 0., ..., 0., 0., 0.],\n",
       "       [0., 1., 0., ..., 0., 0., 0.],\n",
       "       [0., 0., 0., ..., 0., 0., 0.]])"
      ]
     },
     "execution_count": 22,
     "metadata": {},
     "output_type": "execute_result"
    }
   ],
   "source": [
    "%time clf.predict_proba(X_test)"
   ]
  },
  {
   "cell_type": "code",
   "execution_count": 23,
   "metadata": {
    "colab": {},
    "colab_type": "code",
    "id": "yTeg5-COQI77",
    "outputId": "b94602f7-2ce8-439d-e4eb-69f3ee6483ba"
   },
   "outputs": [
    {
     "name": "stdout",
     "output_type": "stream",
     "text": [
      "CPU times: user 5.51 s, sys: 434 ms, total: 5.95 s\n",
      "Wall time: 3.43 s\n"
     ]
    },
    {
     "data": {
      "text/plain": [
       "array([[0., 0., 0., ..., 0., 0., 0.],\n",
       "       [0., 0., 1., ..., 0., 0., 0.],\n",
       "       [0., 0., 0., ..., 0., 0., 0.],\n",
       "       ...,\n",
       "       [0., 0., 0., ..., 0., 0., 0.],\n",
       "       [0., 1., 0., ..., 0., 0., 0.],\n",
       "       [0., 0., 0., ..., 0., 0., 0.]])"
      ]
     },
     "execution_count": 23,
     "metadata": {},
     "output_type": "execute_result"
    }
   ],
   "source": [
    "%time my_clf.predict_proba(X_test)"
   ]
  },
  {
   "cell_type": "code",
   "execution_count": 24,
   "metadata": {
    "colab": {},
    "colab_type": "code",
    "id": "6RD4v-8iQI8I",
    "outputId": "9283a03f-57d4-4b91-e70f-6509b1b1954b"
   },
   "outputs": [
    {
     "data": {
      "text/plain": [
       "0.9571428571428572"
      ]
     },
     "execution_count": 24,
     "metadata": {},
     "output_type": "execute_result"
    }
   ],
   "source": [
    "clf.score(X_test, y_test)"
   ]
  },
  {
   "cell_type": "code",
   "execution_count": 25,
   "metadata": {
    "colab": {},
    "colab_type": "code",
    "id": "gFHY6VeKQI8T",
    "outputId": "e9137800-5ba4-4c0e-97c0-161552cb9bf7"
   },
   "outputs": [
    {
     "data": {
      "text/plain": [
       "0.9571428571428572"
      ]
     },
     "execution_count": 25,
     "metadata": {},
     "output_type": "execute_result"
    }
   ],
   "source": [
    "my_clf.score(X_test, y_test)"
   ]
  },
  {
   "cell_type": "markdown",
   "metadata": {
    "colab_type": "text",
    "id": "Sac0HwGaQI8k"
   },
   "source": [
    "Задание 4"
   ]
  },
  {
   "cell_type": "code",
   "execution_count": 26,
   "metadata": {
    "colab": {},
    "colab_type": "code",
    "id": "bVvod-jmQI8m"
   },
   "outputs": [],
   "source": [
    "clf = KNeighborsClassifier(n_neighbors=2, algorithm='kd_tree')\n",
    "my_clf = MyKNeighborsClassifier(n_neighbors=2, algorithm='kd_tree')"
   ]
  },
  {
   "cell_type": "code",
   "execution_count": 27,
   "metadata": {
    "colab": {},
    "colab_type": "code",
    "id": "hMrCM8_NQI8r"
   },
   "outputs": [],
   "source": [
    "X_train, X_test, y_train, y_test = train_test_split(mnist.data, mnist.target, test_size=0.01, stratify=mnist.target)"
   ]
  },
  {
   "cell_type": "code",
   "execution_count": 28,
   "metadata": {
    "colab": {},
    "colab_type": "code",
    "id": "MwmAbb2uQI8x"
   },
   "outputs": [
    {
     "name": "stdout",
     "output_type": "stream",
     "text": [
      "CPU times: user 1min 11s, sys: 233 ms, total: 1min 11s\n",
      "Wall time: 1min 11s\n"
     ]
    },
    {
     "data": {
      "text/plain": [
       "KNeighborsClassifier(algorithm='kd_tree', leaf_size=30, metric='minkowski',\n",
       "           metric_params=None, n_jobs=None, n_neighbors=2, p=2,\n",
       "           weights='uniform')"
      ]
     },
     "execution_count": 28,
     "metadata": {},
     "output_type": "execute_result"
    }
   ],
   "source": [
    "%time clf.fit(X_train, y_train)"
   ]
  },
  {
   "cell_type": "code",
   "execution_count": 29,
   "metadata": {
    "colab": {},
    "colab_type": "code",
    "id": "gj8MzyBcQI88"
   },
   "outputs": [
    {
     "name": "stdout",
     "output_type": "stream",
     "text": [
      "CPU times: user 1min 6s, sys: 560 ms, total: 1min 7s\n",
      "Wall time: 1min 7s\n"
     ]
    }
   ],
   "source": [
    "%time my_clf.fit(X_train, y_train)"
   ]
  },
  {
   "cell_type": "code",
   "execution_count": 30,
   "metadata": {
    "colab": {},
    "colab_type": "code",
    "id": "V2WNG-djQI9A"
   },
   "outputs": [
    {
     "name": "stdout",
     "output_type": "stream",
     "text": [
      "CPU times: user 1min 45s, sys: 0 ns, total: 1min 45s\n",
      "Wall time: 1min 45s\n"
     ]
    },
    {
     "data": {
      "text/plain": [
       "array(['0', '8', '1', '2', '3', '6', '8', '3', '1', '7', '0', '9', '7',\n",
       "       '5', '6', '0', '3', '9', '1', '5', '5', '7', '6', '4', '8', '8',\n",
       "       '4', '8', '5', '3', '1', '0', '4', '2', '4', '5', '3', '8', '1',\n",
       "       '6', '3', '5', '3', '8', '9', '3', '0', '6', '0', '0', '9', '4',\n",
       "       '7', '4', '1', '3', '2', '6', '7', '6', '7', '0', '6', '7', '1',\n",
       "       '1', '4', '1', '1', '7', '9', '1', '4', '1', '3', '9', '8', '3',\n",
       "       '0', '7', '3', '4', '6', '3', '9', '3', '0', '7', '1', '4', '6',\n",
       "       '4', '3', '0', '0', '1', '6', '7', '3', '0', '4', '7', '8', '6',\n",
       "       '7', '3', '4', '8', '9', '1', '4', '7', '8', '1', '7', '5', '9',\n",
       "       '9', '4', '2', '4', '7', '5', '8', '5', '9', '1', '6', '1', '9',\n",
       "       '8', '6', '6', '6', '6', '5', '8', '3', '5', '7', '3', '0', '2',\n",
       "       '6', '6', '6', '4', '3', '3', '0', '5', '0', '7', '7', '9', '3',\n",
       "       '0', '9', '3', '3', '2', '8', '2', '4', '8', '1', '0', '1', '8',\n",
       "       '3', '4', '8', '7', '9', '4', '9', '9', '6', '6', '5', '1', '5',\n",
       "       '0', '8', '6', '5', '2', '3', '7', '7', '1', '0', '8', '7', '7',\n",
       "       '7', '6', '6', '7', '9', '8', '0', '2', '1', '1', '1', '0', '7',\n",
       "       '6', '6', '0', '6', '0', '6', '0', '7', '0', '5', '1', '6', '9',\n",
       "       '0', '8', '9', '4', '9', '2', '2', '6', '3', '5', '3', '3', '4',\n",
       "       '1', '9', '6', '3', '1', '4', '9', '6', '4', '7', '6', '7', '0',\n",
       "       '2', '3', '1', '7', '1', '4', '3', '7', '7', '6', '1', '6', '9',\n",
       "       '0', '4', '5', '7', '9', '2', '2', '0', '0', '4', '0', '4', '3',\n",
       "       '2', '9', '2', '9', '2', '7', '0', '4', '5', '3', '8', '1', '8',\n",
       "       '2', '7', '1', '5', '9', '9', '7', '9', '7', '3', '5', '6', '0',\n",
       "       '7', '2', '4', '4', '2', '3', '3', '2', '1', '1', '7', '1', '3',\n",
       "       '4', '4', '8', '2', '0', '9', '8', '2', '4', '6', '8', '1', '2',\n",
       "       '4', '2', '2', '0', '3', '1', '2', '8', '8', '4', '7', '9', '3',\n",
       "       '4', '0', '2', '1', '1', '0', '5', '8', '0', '1', '1', '9', '8',\n",
       "       '2', '2', '4', '1', '0', '0', '4', '1', '8', '1', '0', '2', '4',\n",
       "       '7', '6', '5', '2', '9', '3', '1', '7', '0', '4', '5', '4', '6',\n",
       "       '7', '5', '9', '7', '2', '2', '5', '5', '7', '1', '3', '7', '6',\n",
       "       '5', '6', '2', '0', '6', '6', '7', '9', '0', '1', '1', '6', '1',\n",
       "       '4', '5', '8', '6', '5', '9', '3', '1', '9', '1', '8', '9', '1',\n",
       "       '2', '0', '7', '2', '2', '7', '7', '8', '3', '5', '9', '3', '6',\n",
       "       '2', '8', '2', '4', '5', '7', '5', '9', '7', '5', '2', '3', '8',\n",
       "       '4', '6', '7', '9', '2', '0', '8', '5', '8', '6', '1', '2', '6',\n",
       "       '1', '7', '7', '9', '9', '4', '9', '6', '2', '5', '7', '6', '3',\n",
       "       '3', '4', '2', '8', '8', '1', '5', '5', '3', '3', '4', '1', '6',\n",
       "       '9', '4', '7', '5', '8', '5', '5', '9', '3', '2', '0', '0', '7',\n",
       "       '1', '7', '1', '4', '7', '2', '6', '1', '2', '4', '1', '5', '0',\n",
       "       '2', '4', '2', '9', '0', '9', '6', '3', '2', '5', '3', '1', '5',\n",
       "       '6', '9', '7', '2', '2', '8', '5', '8', '2', '9', '4', '7', '3',\n",
       "       '8', '7', '4', '0', '8', '5', '5', '4', '3', '1', '3', '0', '5',\n",
       "       '1', '3', '4', '7', '2', '3', '3', '0', '7', '7', '5', '5', '3',\n",
       "       '5', '0', '1', '8', '0', '1', '1', '9', '3', '6', '1', '1', '9',\n",
       "       '4', '2', '4', '9', '6', '7', '0', '2', '4', '5', '1', '1', '2',\n",
       "       '8', '9', '8', '9', '4', '2', '3', '1', '6', '8', '4', '1', '5',\n",
       "       '6', '5', '9', '1', '3', '7', '3', '8', '4', '9', '1', '9', '1',\n",
       "       '4', '8', '8', '1', '3', '1', '6', '0', '9', '2', '2', '1', '5',\n",
       "       '3', '5', '3', '3', '2', '4', '6', '5', '3', '7', '8', '2', '4',\n",
       "       '0', '0', '3', '6', '9', '8', '0', '1', '9', '4', '6', '8', '0',\n",
       "       '0', '2', '2', '1', '1', '5', '2', '7', '0', '0', '2', '1', '7',\n",
       "       '6', '5', '7', '4', '0', '8', '8', '0', '4', '8', '0', '3', '7',\n",
       "       '5', '9', '6', '8', '7', '6', '7', '8', '8', '2', '5', '5', '9',\n",
       "       '3', '6', '6', '0', '2', '0', '5', '0', '0', '1', '9'],\n",
       "      dtype=object)"
      ]
     },
     "execution_count": 30,
     "metadata": {},
     "output_type": "execute_result"
    }
   ],
   "source": [
    "%time clf.predict(X_test)"
   ]
  },
  {
   "cell_type": "code",
   "execution_count": 31,
   "metadata": {
    "colab": {},
    "colab_type": "code",
    "id": "2v4vke4lQI9F"
   },
   "outputs": [
    {
     "name": "stdout",
     "output_type": "stream",
     "text": [
      "CPU times: user 1min 27s, sys: 0 ns, total: 1min 27s\n",
      "Wall time: 1min 27s\n"
     ]
    },
    {
     "data": {
      "text/plain": [
       "array(['0', '8', '1', '2', '3', '6', '8', '3', '1', '7', '0', '9', '7',\n",
       "       '5', '6', '0', '3', '9', '1', '5', '5', '7', '6', '4', '8', '8',\n",
       "       '4', '8', '5', '3', '1', '0', '4', '2', '4', '5', '3', '8', '1',\n",
       "       '6', '3', '5', '3', '8', '9', '3', '0', '6', '0', '0', '9', '4',\n",
       "       '7', '4', '1', '3', '2', '6', '7', '6', '7', '0', '6', '7', '1',\n",
       "       '1', '4', '1', '1', '7', '9', '1', '4', '1', '3', '9', '8', '3',\n",
       "       '0', '7', '3', '4', '6', '3', '9', '3', '0', '7', '1', '4', '6',\n",
       "       '4', '3', '0', '0', '1', '6', '7', '3', '0', '4', '7', '8', '6',\n",
       "       '7', '3', '4', '8', '9', '1', '4', '7', '8', '1', '7', '5', '9',\n",
       "       '9', '4', '2', '4', '7', '5', '8', '5', '9', '1', '6', '1', '9',\n",
       "       '8', '6', '6', '6', '6', '5', '8', '3', '5', '7', '3', '0', '2',\n",
       "       '6', '6', '6', '4', '3', '3', '0', '5', '0', '7', '7', '9', '3',\n",
       "       '0', '9', '3', '3', '2', '8', '2', '4', '8', '1', '0', '1', '8',\n",
       "       '3', '4', '8', '7', '9', '4', '9', '9', '6', '6', '5', '1', '5',\n",
       "       '0', '8', '6', '5', '2', '3', '7', '7', '1', '0', '8', '7', '7',\n",
       "       '7', '6', '6', '7', '9', '8', '0', '2', '1', '1', '1', '0', '7',\n",
       "       '6', '6', '0', '6', '0', '6', '0', '7', '0', '5', '1', '6', '9',\n",
       "       '0', '8', '9', '4', '9', '2', '2', '6', '3', '5', '3', '3', '4',\n",
       "       '1', '9', '6', '3', '1', '4', '9', '6', '4', '7', '6', '7', '0',\n",
       "       '2', '3', '1', '7', '1', '4', '3', '7', '7', '6', '1', '6', '9',\n",
       "       '0', '4', '5', '7', '9', '2', '2', '0', '0', '4', '0', '4', '3',\n",
       "       '2', '9', '2', '9', '2', '7', '0', '4', '5', '3', '8', '1', '8',\n",
       "       '2', '7', '1', '5', '9', '9', '7', '9', '7', '3', '5', '6', '0',\n",
       "       '7', '2', '4', '4', '2', '3', '3', '2', '1', '1', '7', '1', '3',\n",
       "       '4', '4', '8', '2', '0', '9', '8', '2', '4', '6', '8', '1', '2',\n",
       "       '4', '2', '2', '0', '3', '1', '2', '8', '8', '4', '7', '9', '3',\n",
       "       '4', '0', '2', '1', '1', '0', '5', '8', '0', '1', '1', '9', '8',\n",
       "       '2', '2', '4', '1', '0', '0', '4', '1', '8', '1', '0', '2', '4',\n",
       "       '7', '6', '5', '2', '9', '3', '1', '7', '0', '4', '5', '4', '6',\n",
       "       '7', '5', '9', '7', '2', '2', '5', '5', '7', '1', '3', '7', '6',\n",
       "       '5', '6', '2', '0', '6', '6', '7', '9', '0', '1', '1', '6', '1',\n",
       "       '4', '5', '8', '6', '5', '9', '3', '1', '9', '1', '8', '9', '1',\n",
       "       '2', '0', '7', '2', '2', '7', '7', '8', '3', '5', '9', '3', '6',\n",
       "       '2', '8', '2', '4', '5', '7', '5', '9', '7', '5', '2', '3', '8',\n",
       "       '4', '6', '7', '9', '2', '0', '8', '5', '8', '6', '1', '2', '6',\n",
       "       '1', '7', '7', '9', '9', '4', '9', '6', '2', '5', '7', '6', '3',\n",
       "       '3', '4', '2', '8', '8', '1', '5', '5', '3', '3', '4', '1', '6',\n",
       "       '9', '4', '7', '5', '8', '5', '5', '9', '3', '2', '0', '0', '7',\n",
       "       '1', '7', '1', '4', '7', '2', '6', '1', '2', '4', '1', '5', '0',\n",
       "       '2', '4', '2', '9', '0', '9', '6', '3', '2', '5', '3', '1', '5',\n",
       "       '6', '9', '7', '2', '2', '8', '5', '8', '2', '9', '4', '7', '3',\n",
       "       '8', '7', '4', '0', '8', '5', '5', '4', '3', '1', '3', '0', '5',\n",
       "       '1', '3', '4', '7', '2', '3', '3', '0', '7', '7', '5', '5', '3',\n",
       "       '5', '0', '1', '8', '0', '1', '1', '9', '3', '6', '1', '1', '9',\n",
       "       '4', '2', '4', '9', '6', '7', '0', '2', '4', '5', '1', '1', '2',\n",
       "       '8', '9', '8', '9', '4', '2', '3', '1', '6', '8', '4', '1', '5',\n",
       "       '6', '5', '9', '1', '3', '7', '3', '8', '4', '9', '1', '9', '1',\n",
       "       '4', '8', '8', '1', '3', '1', '6', '0', '9', '2', '2', '1', '5',\n",
       "       '3', '5', '3', '3', '2', '4', '6', '5', '3', '7', '8', '2', '4',\n",
       "       '0', '0', '3', '6', '9', '8', '0', '1', '9', '4', '6', '8', '0',\n",
       "       '0', '2', '2', '1', '1', '5', '2', '7', '0', '0', '2', '1', '7',\n",
       "       '6', '5', '7', '4', '0', '8', '8', '0', '4', '8', '0', '3', '7',\n",
       "       '5', '9', '6', '8', '7', '6', '7', '8', '8', '2', '5', '5', '9',\n",
       "       '3', '6', '6', '0', '2', '0', '5', '0', '0', '1', '9'], dtype='<U1')"
      ]
     },
     "execution_count": 31,
     "metadata": {},
     "output_type": "execute_result"
    }
   ],
   "source": [
    "%time my_clf.predict(X_test)"
   ]
  },
  {
   "cell_type": "code",
   "execution_count": 32,
   "metadata": {
    "colab": {},
    "colab_type": "code",
    "id": "xx2Qs_vVQI9K"
   },
   "outputs": [
    {
     "name": "stdout",
     "output_type": "stream",
     "text": [
      "CPU times: user 1min 44s, sys: 41.9 ms, total: 1min 44s\n",
      "Wall time: 1min 44s\n"
     ]
    },
    {
     "data": {
      "text/plain": [
       "array([[1., 0., 0., ..., 0., 0., 0.],\n",
       "       [0., 0., 0., ..., 0., 1., 0.],\n",
       "       [0., 1., 0., ..., 0., 0., 0.],\n",
       "       ...,\n",
       "       [1., 0., 0., ..., 0., 0., 0.],\n",
       "       [0., 1., 0., ..., 0., 0., 0.],\n",
       "       [0., 0., 0., ..., 0., 0., 1.]])"
      ]
     },
     "execution_count": 32,
     "metadata": {},
     "output_type": "execute_result"
    }
   ],
   "source": [
    "%time clf.predict_proba(X_test)"
   ]
  },
  {
   "cell_type": "code",
   "execution_count": 33,
   "metadata": {
    "colab": {},
    "colab_type": "code",
    "id": "EzRGoOBFQI9a"
   },
   "outputs": [
    {
     "name": "stdout",
     "output_type": "stream",
     "text": [
      "CPU times: user 1min 25s, sys: 0 ns, total: 1min 25s\n",
      "Wall time: 1min 25s\n"
     ]
    },
    {
     "data": {
      "text/plain": [
       "array([[1., 0., 0., ..., 0., 0., 0.],\n",
       "       [0., 0., 0., ..., 0., 1., 0.],\n",
       "       [0., 1., 0., ..., 0., 0., 0.],\n",
       "       ...,\n",
       "       [1., 0., 0., ..., 0., 0., 0.],\n",
       "       [0., 1., 0., ..., 0., 0., 0.],\n",
       "       [0., 0., 0., ..., 0., 0., 1.]])"
      ]
     },
     "execution_count": 33,
     "metadata": {},
     "output_type": "execute_result"
    }
   ],
   "source": [
    "%time my_clf.predict_proba(X_test)"
   ]
  },
  {
   "cell_type": "code",
   "execution_count": 34,
   "metadata": {
    "colab": {},
    "colab_type": "code",
    "id": "OEthVSPyQI9f"
   },
   "outputs": [
    {
     "data": {
      "text/plain": [
       "0.9628571428571429"
      ]
     },
     "execution_count": 34,
     "metadata": {},
     "output_type": "execute_result"
    }
   ],
   "source": [
    "clf.score(X_test, y_test)"
   ]
  },
  {
   "cell_type": "code",
   "execution_count": 35,
   "metadata": {
    "colab": {},
    "colab_type": "code",
    "id": "-1odpXR-QI9u"
   },
   "outputs": [
    {
     "data": {
      "text/plain": [
       "0.9628571428571429"
      ]
     },
     "execution_count": 35,
     "metadata": {},
     "output_type": "execute_result"
    }
   ],
   "source": [
    "my_clf.score(X_test, y_test)"
   ]
  },
  {
   "cell_type": "markdown",
   "metadata": {
    "colab_type": "text",
    "id": "SSE7lU9AQI91"
   },
   "source": [
    "Задание 5"
   ]
  },
  {
   "cell_type": "code",
   "execution_count": 36,
   "metadata": {
    "colab": {},
    "colab_type": "code",
    "id": "O-yoaEveQI94"
   },
   "outputs": [],
   "source": [
    "# seaborn - библиотека, предназначенная для визуализации данных(построения графиков, гистограмм, etc)\n",
    "# matplotlib - аналогично\n",
    "# train_test_split - функция, предназначенная для разделения массива на тренировочную и тестовую выборки\n",
    "# Pipelin%load_ext e (from sklearn.pipeline import Pipeline) - Pipeline -- функция, предназначенная для\n",
    "# создания цепи последовательных преобразований(используется для предобработки данных)\n",
    "# StandardScaler (from sklearn.preprocessing import StandardScaler) - преобразует данные таким образом, что\n",
    "# они будут иметь среднее значение(матожидание), равное 0 и стандартное отклонение, равное 1\n",
    "# ClassifierMixin - Mixin-класс для всех классификаторов в sklearn\n",
    "# NeighborsBase - базовый класс для всех алгоритмов KNN в sklearn\n",
    "# KNeighborsMixin - Mixin-класс для реализации различных алгоритмов поиска К ближайших соседей\n",
    "# SupervisedIntegerMixin - Mixin-класс, использующийся для замешивания(\"mix in\") метода \"fit\""
   ]
  }
 ],
 "metadata": {
  "colab": {
   "collapsed_sections": [],
   "name": "hw1.ipynb",
   "provenance": [],
   "version": "0.3.2"
  },
  "kernelspec": {
   "display_name": "Python 3",
   "language": "python",
   "name": "python3"
  },
  "language_info": {
   "codemirror_mode": {
    "name": "ipython",
    "version": 3
   },
   "file_extension": ".py",
   "mimetype": "text/x-python",
   "name": "python",
   "nbconvert_exporter": "python",
   "pygments_lexer": "ipython3",
   "version": "3.7.2"
  }
 },
 "nbformat": 4,
 "nbformat_minor": 1
}
